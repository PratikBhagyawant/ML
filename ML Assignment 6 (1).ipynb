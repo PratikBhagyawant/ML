{
 "cells": [
  {
   "cell_type": "markdown",
   "id": "19de6b98-43f3-44c1-b4de-a5c46a9bb590",
   "metadata": {},
   "source": [
    "**NAME** : Pratik Vijay Bhagyawant\\\n",
    "**CLASS** : BE-AIDS\\\n",
    "**ROLL No** : 2547008\\\n",
    "**Batch** : A\\\n",
    "**SUB** : Computer Laboratory I (Machine Learning)"
   ]
  },
  {
   "cell_type": "markdown",
   "id": "533dbeb5-a311-4a7b-9130-2c70f95d3aa5",
   "metadata": {},
   "source": [
    "**Problem Statement**: Implement Reinforcement Learning using an example of a maze environment that the\n",
    "agent needs to explore.\n",
    "\n"
   ]
  },
  {
   "cell_type": "code",
   "execution_count": null,
   "id": "bfc571c3-915c-4c92-9843-28df8fb658ef",
   "metadata": {},
   "outputs": [],
   "source": [
    "import numpy as np\n",
    "import random\n",
    "\n",
    "# Test the agent\n",
    "state = (0, 0)\n",
    "steps = 0\n",
    "print(\"\\nOptimal Path:\")\n",
    "while state != (4, 4) and steps < max_steps:\n",
    "    action = select_action(state)\n",
    "    next_state = get_next_state(state, action)\n",
    "    print(f\"State: {state}, Action: {action}\")\n",
    "    state = next_state\n",
    "    steps += 1\n",
    "\n",
    "if state == (4, 4):\n",
    "    print(f\"Reached the goal in {steps} steps!\")\n",
    "else:\n",
    "    print(\"Failed to reach the goal.\")"
   ]
  },
  {
   "cell_type": "code",
   "execution_count": null,
   "id": "69dc9fb2-4d0d-47b9-aef4-40bcdeab79b8",
   "metadata": {},
   "outputs": [],
   "source": [
    "# Maze Environment\n",
    "maze = [\n",
    "    [0, 0, 0, -10, 0],\n",
    "    [0, -10, 0, -10, 0],\n",
    "    [0, -10, 0, 0, 0],\n",
    "    [0, 0, 0, -10, 0],\n",
    "    [0, 0, 0, 0, 100]  # Goal state with reward +100\n",
    "]\n",
    "\n",
    "# Parameters\n",
    "alpha = 0.1      # Learning rate\n",
    "gamma = 0.9      # Discount factor\n",
    "epsilon = 1.0    # Exploration rate\n",
    "epsilon_decay = 0.99\n",
    "min_epsilon = 0.01\n",
    "episodes = 500   # Number of training episodes\n",
    "max_steps = 100  # Max steps per episode\n",
    "\n",
    "# Q-table initialization (5x5 grid, 4 actions: up, down, left, right)\n",
    "q_table = np.zeros((5, 5, 4))\n",
    "\n",
    "# Actions mapping\n",
    "actions = ['up', 'down', 'left', 'right']\n",
    "action_dict = {\n",
    "    'up': (-1, 0),\n",
    "    'down': (1, 0),\n",
    "    'left': (0, -1),\n",
    "    'right': (0, 1)\n",
    "}\n"
   ]
  },
  {
   "cell_type": "code",
   "execution_count": null,
   "id": "9625f2b5-21e5-4f4d-9a18-83381426547d",
   "metadata": {},
   "outputs": [],
   "source": [
    "# Helper functions\n",
    "def get_next_state(state, action):\n",
    "    \"\"\"Move to the next state based on the action taken.\"\"\"\n",
    "    row, col = state\n",
    "    row_move, col_move = action_dict[action]\n",
    "    new_row, new_col = row + row_move, col + col_move\n",
    "    \n",
    "    # Boundary check\n",
    "    if new_row < 0 or new_row >= len(maze) or new_col < 0 or new_col >= len(maze[0]):\n",
    "        return state  # Can't move outside the maze, return the current state\n",
    "    return (new_row, new_col)\n",
    "\n",
    "def get_reward(state):\n",
    "    \"\"\"Return the reward for reaching the current state.\"\"\"\n",
    "    row, col = state\n",
    "    return maze[row][col]\n",
    "\n",
    "def select_action(state):\n",
    "    \"\"\"Select an action based on epsilon-greedy policy.\"\"\"\n",
    "    if random.uniform(0, 1) < epsilon:\n",
    "        return random.choice(actions)  # Explore\n",
    "    else:\n",
    "        return actions[np.argmax(q_table[state[0], state[1]])]  # Exploit"
   ]
  },
  {
   "cell_type": "code",
   "execution_count": null,
   "id": "2afc6aaf-e00e-4016-ba61-e59c42fda2b9",
   "metadata": {},
   "outputs": [],
   "source": [
    "# Training\n",
    "for episode in range(episodes):\n",
    "    state = (0, 0)  # Start position\n",
    "    total_reward = 0\n",
    "    \n",
    "    for step in range(max_steps):\n",
    "        # Choose action and move to the next state\n",
    "        action = select_action(state)\n",
    "        next_state = get_next_state(state, action)\n",
    "        \n",
    "        # Get reward and update Q-value\n",
    "        reward = get_reward(next_state)\n",
    "        total_reward += reward\n",
    "        action_index = actions.index(action)\n",
    "        \n",
    "        q_table[state[0], state[1], action_index] = q_table[state[0], state[1], action_index] + alpha * (\n",
    "            reward + gamma * np.max(q_table[next_state[0], next_state[1]]) - q_table[state[0], state[1], action_index])\n",
    "        \n",
    "        state = next_state\n",
    "        \n",
    "        # End episode if goal is reached\n",
    "        if reward == 100:\n",
    "            break\n",
    "    \n",
    "    # Decay epsilon\n",
    "    epsilon = max(min_epsilon, epsilon * epsilon_decay)\n",
    "    \n",
    "    # Optional: print progress\n",
    "    if episode % 100 == 0:\n",
    "        print(f\"Episode {episode}, Total Reward: {total_reward}\")"
   ]
  }
 ],
 "metadata": {
  "kernelspec": {
   "display_name": "Python 3 (ipykernel)",
   "language": "python",
   "name": "python3"
  },
  "language_info": {
   "codemirror_mode": {
    "name": "ipython",
    "version": 3
   },
   "file_extension": ".py",
   "mimetype": "text/x-python",
   "name": "python",
   "nbconvert_exporter": "python",
   "pygments_lexer": "ipython3",
   "version": "3.11.4"
  }
 },
 "nbformat": 4,
 "nbformat_minor": 5
}
